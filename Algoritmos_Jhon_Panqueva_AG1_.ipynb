{
  "nbformat": 4,
  "nbformat_minor": 0,
  "metadata": {
    "colab": {
      "provenance": [],
      "toc_visible": true
    },
    "kernelspec": {
      "name": "python3",
      "display_name": "Python 3"
    },
    "language_info": {
      "name": "python"
    }
  },
  "cells": [
    {
      "cell_type": "markdown",
      "source": [
        "#Actividad Guiada 1\n",
        "## Jhon Panqueva\n",
        "\n",
        "https://github.com/jpanqueva/03MIAR_04_A_2023-24_Algoritmos-de-Optimizacion"
      ],
      "metadata": {
        "id": "bHbv-gdb6BcN"
      }
    },
    {
      "cell_type": "code",
      "source": [
        "#Torres Hanoi\n",
        "def torres_hanoi(N, origen, destino, pivote):\n",
        "  if N == 1:\n",
        "    print(f\"Mover bloque desde {origen} a {destino}\")\n",
        "    return\n",
        "\n",
        "  torres_hanoi(N-1, origen,pivote, destino)\n",
        "  print(f\"Mover bloque desde {origen} a {destino}\")\n",
        "  torres_hanoi(N-1, pivote,destino, origen)"
      ],
      "metadata": {
        "id": "E8k-Vf4G6FmC"
      },
      "execution_count": null,
      "outputs": []
    },
    {
      "cell_type": "code",
      "source": [
        "torres_hanoi(4,1,3,2)"
      ],
      "metadata": {
        "colab": {
          "base_uri": "https://localhost:8080/"
        },
        "id": "isj9G7yb7s54",
        "outputId": "eae105fa-c483-45d7-a257-b3b00c58fe9d"
      },
      "execution_count": null,
      "outputs": [
        {
          "output_type": "stream",
          "name": "stdout",
          "text": [
            "Mover bloque desde 1 a 2\n",
            "Mover bloque desde 1 a 3\n",
            "Mover bloque desde 2 a 3\n",
            "Mover bloque desde 1 a 2\n",
            "Mover bloque desde 3 a 1\n",
            "Mover bloque desde 3 a 2\n",
            "Mover bloque desde 1 a 2\n",
            "Mover bloque desde 1 a 3\n",
            "Mover bloque desde 2 a 3\n",
            "Mover bloque desde 2 a 1\n",
            "Mover bloque desde 3 a 1\n",
            "Mover bloque desde 2 a 3\n",
            "Mover bloque desde 1 a 2\n",
            "Mover bloque desde 1 a 3\n",
            "Mover bloque desde 2 a 3\n"
          ]
        }
      ]
    },
    {
      "cell_type": "code",
      "source": [
        "#Devolver cambio\n",
        "\n",
        "def cambio_moneda(CANTIDAD, SISTEMA):\n",
        "\n",
        "  print(\"SISTEMA:\")\n",
        "  print(SISTEMA)\n",
        "\n",
        "  SOLUCION = [0 for i in range(len(SISTEMA))]\n",
        "\n",
        "  VALOR_ACUMULADO = 0\n",
        "  for i in range(len(SISTEMA)):\n",
        "    monedas = int((CANTIDAD-VALOR_ACUMULADO)/SISTEMA[i])\n",
        "    SOLUCION[i] = monedas\n",
        "    VALOR_ACUMULADO += monedas * SISTEMA[i]\n",
        "    if VALOR_ACUMULADO == CANTIDAD: break\n",
        "\n",
        "  return SOLUCION\n",
        "\n"
      ],
      "metadata": {
        "id": "IRt35uvAEEu2"
      },
      "execution_count": null,
      "outputs": []
    },
    {
      "cell_type": "code",
      "source": [
        "cambio_moneda(54, [25,10,5,1])\n"
      ],
      "metadata": {
        "colab": {
          "base_uri": "https://localhost:8080/"
        },
        "id": "-_c9sxJhEVtf",
        "outputId": "03821e74-4541-464a-8b97-accaa99bf6e5"
      },
      "execution_count": null,
      "outputs": [
        {
          "output_type": "stream",
          "name": "stdout",
          "text": [
            "SISTEMA:\n",
            "[25, 10, 5, 1]\n"
          ]
        },
        {
          "output_type": "execute_result",
          "data": {
            "text/plain": [
              "[2, 0, 0, 4]"
            ]
          },
          "metadata": {},
          "execution_count": 14
        }
      ]
    }
  ]
}